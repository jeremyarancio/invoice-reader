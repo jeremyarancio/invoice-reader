{
 "cells": [
  {
   "cell_type": "code",
   "execution_count": 2,
   "metadata": {},
   "outputs": [
    {
     "name": "stdout",
     "output_type": "stream",
     "text": [
      "/home/jeremy/projects/side_projects/invoice-reader\n"
     ]
    }
   ],
   "source": [
    "from pathlib import Path\n",
    "import os\n",
    "\n",
    "import pytesseract\n",
    "from PIL import Image, ImageDraw\n",
    "\n",
    "REPO_DIR = Path(os.path.realpath(\"\")).parent\n",
    "print(REPO_DIR)"
   ]
  },
  {
   "cell_type": "code",
   "execution_count": null,
   "metadata": {},
   "outputs": [],
   "source": [
    "image = Image.open(REPO_DIR / \".private/invoice.png\").convert(\"RGB\")\n",
    "image.resize((350,450))"
   ]
  },
  {
   "cell_type": "code",
   "execution_count": null,
   "metadata": {},
   "outputs": [],
   "source": [
    "text = pytesseract.image_to_string(image)\n",
    "print(text)"
   ]
  },
  {
   "cell_type": "code",
   "execution_count": 5,
   "metadata": {},
   "outputs": [],
   "source": [
    "def normalize_bbox(bbox, width, height):\n",
    "    return [\n",
    "        int(1000 * (bbox[0] / width)),\n",
    "        int(1000 * (bbox[1] / height)),\n",
    "        int(1000 * (bbox[2] / width)),\n",
    "        int(1000 * (bbox[3] / height)),\n",
    "    ]"
   ]
  },
  {
   "cell_type": "code",
   "execution_count": null,
   "metadata": {},
   "outputs": [],
   "source": [
    "# For each character\n",
    "image = Image.open(REPO_DIR / \".private/invoice.png\").convert(\"RGB\")\n",
    "boxes = pytesseract.image_to_boxes(image)\n",
    "print(boxes[:100])\n",
    "draw = ImageDraw.Draw(image)\n",
    "width, height = image.size\n",
    "for box in boxes.splitlines():\n",
    "    b = box.split(\" \")\n",
    "    bbox = (int(b[1]), height - int(b[4]), int(b[3]), height - int(b[2]))\n",
    "    # normalized_bbox = normalize_bbox(bbox, width, height)\n",
    "    draw.rectangle(bbox, outline=\"red\")\n",
    "image.resize((350,450))"
   ]
  },
  {
   "cell_type": "markdown",
   "metadata": {},
   "source": [
    "Notes:\n",
    "* PIL's coordinate system has (0, 0) at the top-left corner, while Tesseract's bounding box coordinates have (0, 0) at the bottom-left corner.\n",
    "* Rectangle takes x0y0, x1y1 from bottom-left to top-right\n",
    "* If rectangles are drawn, next OCR will be altered, so it is required reload the image everytime"
   ]
  },
  {
   "cell_type": "code",
   "execution_count": null,
   "metadata": {},
   "outputs": [],
   "source": [
    "# For each word\n",
    "image = Image.open(REPO_DIR / \".private/invoice.png\").convert(\"RGB\")\n",
    "draw = ImageDraw.Draw(image)\n",
    "words_dict = pytesseract.image_to_data(image, output_type=pytesseract.Output.DICT)\n",
    "print(words_dict.keys())\n",
    "words = [{k: v[i] for k, v in words_dict.items()} for i, _ in enumerate(words_dict[\"text\"])]\n",
    "for word in words:\n",
    "    if word[\"text\"].strip() != '':\n",
    "        x, y, w, h = word['left'], word['top'], word['width'], word['height']\n",
    "        draw.rectangle([x, y, x + w, y + h], outline=\"red\")\n",
    "image"
   ]
  },
  {
   "cell_type": "code",
   "execution_count": null,
   "metadata": {},
   "outputs": [],
   "source": [
    "image = Image.open(REPO_DIR / \".private/invoice.png\").convert(\"RGB\")\n",
    "pytesseract.image_to_data(image, output_type=pytesseract.Output.DATAFRAME)"
   ]
  },
  {
   "cell_type": "code",
   "execution_count": null,
   "metadata": {},
   "outputs": [],
   "source": []
  }
 ],
 "metadata": {
  "kernelspec": {
   "display_name": "invoice",
   "language": "python",
   "name": "python3"
  },
  "language_info": {
   "codemirror_mode": {
    "name": "ipython",
    "version": 3
   },
   "file_extension": ".py",
   "mimetype": "text/x-python",
   "name": "python",
   "nbconvert_exporter": "python",
   "pygments_lexer": "ipython3",
   "version": "3.9.18"
  }
 },
 "nbformat": 4,
 "nbformat_minor": 2
}
